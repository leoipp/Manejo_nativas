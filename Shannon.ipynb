{
 "cells": [
  {
   "cell_type": "markdown",
   "id": "29a397df",
   "metadata": {},
   "source": [
    "### Índice de Diversidade de Shannon"
   ]
  },
  {
   "cell_type": "markdown",
   "id": "e589bebe",
   "metadata": {},
   "source": [
    "\\begin{equation}\n",
    "H^{'} = \\sum_{i=1}^S p_{i}*ln(p_{i})\n",
    "\\end{equation}"
   ]
  },
  {
   "cell_type": "markdown",
   "id": "f26881da",
   "metadata": {},
   "source": [
    "\\begin{equation}\n",
    "C = 1 -\\frac {N*ln(N) - \\sum_{i=1}^S n_{i}*ln(n_{i})}{N}\n",
    "\\end{equation}"
   ]
  },
  {
   "cell_type": "markdown",
   "id": "ad54fe51",
   "metadata": {},
   "source": [
    "* $p_{i} = n_{i}/N$"
   ]
  },
  {
   "cell_type": "markdown",
   "id": "d35ee74b",
   "metadata": {},
   "source": [
    "* $n_{i}$ = Número de indivíduos amostrados da i-ésima espécie;"
   ]
  },
  {
   "cell_type": "markdown",
   "id": "b9274040",
   "metadata": {},
   "source": [
    "* $DA_{i}$ = Densidade absoluta da i-ésima espécie $(n_{i}.ha^{-1})$;"
   ]
  },
  {
   "cell_type": "markdown",
   "id": "b80f588c",
   "metadata": {},
   "source": [
    "* $N$ = Número total de indivíduos amostrados;"
   ]
  },
  {
   "cell_type": "markdown",
   "id": "5c34a290",
   "metadata": {},
   "source": [
    "* $DTA$ = Densidade total $(N.ha^{-1})$;"
   ]
  },
  {
   "cell_type": "markdown",
   "id": "f5eb560b",
   "metadata": {},
   "source": [
    "* $S$ = Número de espécies amostradas;"
   ]
  },
  {
   "cell_type": "markdown",
   "id": "e39491ed",
   "metadata": {},
   "source": [
    "* $ln$ = loratimo neperiano."
   ]
  },
  {
   "cell_type": "code",
   "execution_count": null,
   "id": "fe5587d6",
   "metadata": {},
   "outputs": [],
   "source": [
    "# Carregamento de pacotes\n",
    "import pandas as pd\n",
    "import numpy as np"
   ]
  },
  {
   "cell_type": "code",
   "execution_count": null,
   "id": "0e37e533",
   "metadata": {},
   "outputs": [],
   "source": [
    "# Abertura do dataframe com dados coletados pelo inventário\n",
    "df = pd.read_csv('DUC_A01_2016_inventory.csv', sep=',', encoding='latin1')\n",
    "df.head()"
   ]
  },
  {
   "cell_type": "code",
   "execution_count": null,
   "id": "5fc7b6d8",
   "metadata": {},
   "outputs": [],
   "source": [
    "# Criação de uma pivot table para identificar o numero de individuos de determinada espécie por parcela\n",
    "pivot = df.pivot_table(values='DBH', index='scientific.name', columns='plot',\n",
    "                      aggfunc=np.count_nonzero, fill_value=0)"
   ]
  },
  {
   "cell_type": "code",
   "execution_count": null,
   "id": "36fc2019",
   "metadata": {},
   "outputs": [],
   "source": [
    "pivot['total'] = pivot.sum(axis=1)\n",
    "pivot = pivot.reset_index()"
   ]
  },
  {
   "cell_type": "code",
   "execution_count": null,
   "id": "75ca19f6",
   "metadata": {},
   "outputs": [],
   "source": [
    "N = pivot['total'].sum(axis=0)\n",
    "pivot['pi'] = pivot['total']/N\n",
    "pivot['lnpi'] = np.log(pivot['pi'])\n",
    "pivot['pixlnpi'] = pivot['pi']*pivot['lnpi']\n",
    "H = abs(pivot['pixlnpi'].sum(axis=0))"
   ]
  },
  {
   "cell_type": "code",
   "execution_count": null,
   "id": "60b69cdf",
   "metadata": {},
   "outputs": [],
   "source": [
    "print(f'O indice de diversidade de Shannon é {round(H, 2)}')"
   ]
  },
  {
   "cell_type": "markdown",
   "id": "a5189b75",
   "metadata": {},
   "source": [
    "###### Quanto maior o valor de $H^{'}$, maior será a diversidade florística da comunidade em estudo (PERKINS, 1982; BROWER; ZAR, 1984)."
   ]
  }
 ],
 "metadata": {
  "kernelspec": {
   "display_name": "Python 3 (ipykernel)",
   "language": "python",
   "name": "python3"
  },
  "language_info": {
   "codemirror_mode": {
    "name": "ipython",
    "version": 3
   },
   "file_extension": ".py",
   "mimetype": "text/x-python",
   "name": "python",
   "nbconvert_exporter": "python",
   "pygments_lexer": "ipython3",
   "version": "3.7.12"
  }
 },
 "nbformat": 4,
 "nbformat_minor": 5
}
