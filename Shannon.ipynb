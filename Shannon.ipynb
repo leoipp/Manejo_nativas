{
 "cells": [
  {
   "cell_type": "markdown",
   "id": "29a397df",
   "metadata": {},
   "source": [
    "### Índice de Diversidade de Shannon"
   ]
  },
  {
   "cell_type": "markdown",
   "id": "e589bebe",
   "metadata": {},
   "source": [
    "\\begin{equation}\n",
    "H^{'} = \\sum_{i=1}^S p_{i}*ln(p_{i})\n",
    "\\end{equation}"
   ]
  },
  {
   "cell_type": "markdown",
   "id": "f26881da",
   "metadata": {},
   "source": [
    "\\begin{equation}\n",
    "C = 1 -\\frac {N*ln(N) - \\sum_{i=1}^S n_{i}*ln(n_{i})}{N}\n",
    "\\end{equation}"
   ]
  },
  {
   "cell_type": "markdown",
   "id": "ad54fe51",
   "metadata": {},
   "source": [
    "* $p_{i} = n_{i}/N$"
   ]
  },
  {
   "cell_type": "markdown",
   "id": "d35ee74b",
   "metadata": {},
   "source": [
    "* $n_{i}$ = Número de indivíduos amostrados da i-ésima espécie;"
   ]
  },
  {
   "cell_type": "markdown",
   "id": "b9274040",
   "metadata": {},
   "source": [
    "* $DA_{i}$ = Densidade absoluta da i-ésima espécie $(n_{i}.ha^{-1})$;"
   ]
  },
  {
   "cell_type": "markdown",
   "id": "b80f588c",
   "metadata": {},
   "source": [
    "* $N$ = Número total de indivíduos amostrados;"
   ]
  },
  {
   "cell_type": "markdown",
   "id": "5c34a290",
   "metadata": {},
   "source": [
    "* $DTA$ = Densidade total $(N.ha^{-1})$;"
   ]
  },
  {
   "cell_type": "markdown",
   "id": "f5eb560b",
   "metadata": {},
   "source": [
    "* $S$ = Número de espécies amostradas;"
   ]
  },
  {
   "cell_type": "markdown",
   "id": "e39491ed",
   "metadata": {},
   "source": [
    "* $ln$ = loratimo neperiano."
   ]
  },
  {
   "cell_type": "code",
   "execution_count": 1,
   "id": "fe5587d6",
   "metadata": {},
   "outputs": [],
   "source": [
    "# Carregamento de pacotes\n",
    "import pandas as pd\n",
    "import numpy as np"
   ]
  },
  {
   "cell_type": "code",
   "execution_count": 3,
   "id": "0e37e533",
   "metadata": {},
   "outputs": [
    {
     "data": {
      "text/html": [
       "<div>\n",
       "<style scoped>\n",
       "    .dataframe tbody tr th:only-of-type {\n",
       "        vertical-align: middle;\n",
       "    }\n",
       "\n",
       "    .dataframe tbody tr th {\n",
       "        vertical-align: top;\n",
       "    }\n",
       "\n",
       "    .dataframe thead th {\n",
       "        text-align: right;\n",
       "    }\n",
       "</style>\n",
       "<table border=\"1\" class=\"dataframe\">\n",
       "  <thead>\n",
       "    <tr style=\"text-align: right;\">\n",
       "      <th></th>\n",
       "      <th>area</th>\n",
       "      <th>plot</th>\n",
       "      <th>tree</th>\n",
       "      <th>common.name</th>\n",
       "      <th>scientific.name</th>\n",
       "      <th>family.name</th>\n",
       "      <th>DBH</th>\n",
       "      <th>type</th>\n",
       "      <th>Dead</th>\n",
       "      <th>D.class</th>\n",
       "      <th>date</th>\n",
       "      <th>UTM.Easting</th>\n",
       "      <th>UTM.Northing</th>\n",
       "    </tr>\n",
       "  </thead>\n",
       "  <tbody>\n",
       "    <tr>\n",
       "      <th>0</th>\n",
       "      <td>DUC_A01</td>\n",
       "      <td>2</td>\n",
       "      <td>001a</td>\n",
       "      <td>macucu</td>\n",
       "      <td>Licania guianensis</td>\n",
       "      <td>Chrysobalanaceae</td>\n",
       "      <td>49.6</td>\n",
       "      <td>O</td>\n",
       "      <td>False</td>\n",
       "      <td>NaN</td>\n",
       "      <td>20160824</td>\n",
       "      <td>840127.0705</td>\n",
       "      <td>9674180.998</td>\n",
       "    </tr>\n",
       "    <tr>\n",
       "      <th>1</th>\n",
       "      <td>DUC_A01</td>\n",
       "      <td>2</td>\n",
       "      <td>001b</td>\n",
       "      <td>uxirana</td>\n",
       "      <td>Sacoglottis guianensis</td>\n",
       "      <td>Humiriaceae</td>\n",
       "      <td>43.6</td>\n",
       "      <td>O</td>\n",
       "      <td>False</td>\n",
       "      <td>NaN</td>\n",
       "      <td>20160824</td>\n",
       "      <td>840098.9678</td>\n",
       "      <td>9674177.868</td>\n",
       "    </tr>\n",
       "    <tr>\n",
       "      <th>2</th>\n",
       "      <td>DUC_A01</td>\n",
       "      <td>2</td>\n",
       "      <td>002a</td>\n",
       "      <td>mapatirana</td>\n",
       "      <td>Pourouma minor</td>\n",
       "      <td>Urticaceae</td>\n",
       "      <td>31.5</td>\n",
       "      <td>O</td>\n",
       "      <td>False</td>\n",
       "      <td>NaN</td>\n",
       "      <td>20160824</td>\n",
       "      <td>840126.4377</td>\n",
       "      <td>9674180.705</td>\n",
       "    </tr>\n",
       "    <tr>\n",
       "      <th>3</th>\n",
       "      <td>DUC_A01</td>\n",
       "      <td>2</td>\n",
       "      <td>002b</td>\n",
       "      <td>abiurana</td>\n",
       "      <td>Pouteria gongrijpii</td>\n",
       "      <td>Sapotaceae</td>\n",
       "      <td>39.2</td>\n",
       "      <td>O</td>\n",
       "      <td>False</td>\n",
       "      <td>NaN</td>\n",
       "      <td>20160824</td>\n",
       "      <td>840109.4829</td>\n",
       "      <td>9674171.803</td>\n",
       "    </tr>\n",
       "    <tr>\n",
       "      <th>4</th>\n",
       "      <td>DUC_A01</td>\n",
       "      <td>2</td>\n",
       "      <td>003a</td>\n",
       "      <td>roxinho</td>\n",
       "      <td>Peltogyne lecointei</td>\n",
       "      <td>Fabaceae</td>\n",
       "      <td>10.0</td>\n",
       "      <td>O</td>\n",
       "      <td>False</td>\n",
       "      <td>NaN</td>\n",
       "      <td>20160824</td>\n",
       "      <td>840125.6847</td>\n",
       "      <td>9674181.313</td>\n",
       "    </tr>\n",
       "  </tbody>\n",
       "</table>\n",
       "</div>"
      ],
      "text/plain": [
       "      area  plot  tree common.name         scientific.name       family.name  \\\n",
       "0  DUC_A01     2  001a      macucu      Licania guianensis  Chrysobalanaceae   \n",
       "1  DUC_A01     2  001b     uxirana  Sacoglottis guianensis       Humiriaceae   \n",
       "2  DUC_A01     2  002a  mapatirana          Pourouma minor        Urticaceae   \n",
       "3  DUC_A01     2  002b    abiurana     Pouteria gongrijpii        Sapotaceae   \n",
       "4  DUC_A01     2  003a     roxinho     Peltogyne lecointei          Fabaceae   \n",
       "\n",
       "    DBH type   Dead  D.class      date  UTM.Easting  UTM.Northing  \n",
       "0  49.6    O  False      NaN  20160824  840127.0705   9674180.998  \n",
       "1  43.6    O  False      NaN  20160824  840098.9678   9674177.868  \n",
       "2  31.5    O  False      NaN  20160824  840126.4377   9674180.705  \n",
       "3  39.2    O  False      NaN  20160824  840109.4829   9674171.803  \n",
       "4  10.0    O  False      NaN  20160824  840125.6847   9674181.313  "
      ]
     },
     "execution_count": 3,
     "metadata": {},
     "output_type": "execute_result"
    }
   ],
   "source": [
    "# Abertura do dataframe com dados coletados pelo inventário\n",
    "df = pd.read_csv('DUC_A01_2016_inventory.csv', sep=',', encoding='latin1')\n",
    "df.head()"
   ]
  },
  {
   "cell_type": "code",
   "execution_count": 4,
   "id": "5fc7b6d8",
   "metadata": {},
   "outputs": [],
   "source": [
    "# Criação de uma pivot table para identificar o numero de individuos de determinada espécie por parcela\n",
    "pivot = df.pivot_table(values='DBH', index='scientific.name', columns='plot',\n",
    "                      aggfunc=np.count_nonzero, fill_value=0)"
   ]
  },
  {
   "cell_type": "code",
   "execution_count": 5,
   "id": "36fc2019",
   "metadata": {},
   "outputs": [],
   "source": [
    "pivot['total'] = pivot.sum(axis=1)\n",
    "pivot = pivot.reset_index()"
   ]
  },
  {
   "cell_type": "code",
   "execution_count": 6,
   "id": "75ca19f6",
   "metadata": {},
   "outputs": [],
   "source": [
    "N = pivot['total'].sum(axis=0)\n",
    "pivot['pi'] = pivot['total']/N\n",
    "pivot['lnpi'] = np.log(pivot['pi'])\n",
    "pivot['pixlnpi'] = pivot['pi']*pivot['lnpi']\n",
    "H = abs(pivot['pixlnpi'].sum(axis=0))"
   ]
  },
  {
   "cell_type": "code",
   "execution_count": 7,
   "id": "60b69cdf",
   "metadata": {},
   "outputs": [
    {
     "name": "stdout",
     "output_type": "stream",
     "text": [
      "O indice de diversidade de Shannon é 4.32\n"
     ]
    }
   ],
   "source": [
    "print(f'O indice de diversidade de Shannon é {round(H, 2)}')"
   ]
  },
  {
   "cell_type": "markdown",
   "id": "a5189b75",
   "metadata": {},
   "source": [
    "###### Quanto maior o valor de $H^{'}$, maior será a diversidade florística da comunidade em estudo (PERKINS, 1982; BROWER; ZAR, 1984)."
   ]
  }
 ],
 "metadata": {
  "kernelspec": {
   "display_name": "Python 3 (ipykernel)",
   "language": "python",
   "name": "python3"
  },
  "language_info": {
   "codemirror_mode": {
    "name": "ipython",
    "version": 3
   },
   "file_extension": ".py",
   "mimetype": "text/x-python",
   "name": "python",
   "nbconvert_exporter": "python",
   "pygments_lexer": "ipython3",
   "version": "3.7.12"
  }
 },
 "nbformat": 4,
 "nbformat_minor": 5
}
